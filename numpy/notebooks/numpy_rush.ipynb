{
 "cells": [
  {
   "cell_type": "markdown",
   "metadata": {
    "colab_type": "text",
    "id": "tScDalu2JPWt"
   },
   "source": [
    "author: rquerino, kpastukh"
   ]
  },
  {
   "cell_type": "code",
   "execution_count": 1,
   "metadata": {
    "colab": {},
    "colab_type": "code",
    "id": "zfS2Y-T1JZDd"
   },
   "outputs": [],
   "source": [
    "import numpy as np\n",
    "import matplotlib.pyplot as plt"
   ]
  },
  {
   "cell_type": "markdown",
   "metadata": {
    "colab_type": "text",
    "id": "10ql00ikK3pm"
   },
   "source": [
    "1. Create a matrix of random values of a distribution of your choice."
   ]
  },
  {
   "cell_type": "code",
   "execution_count": 2,
   "metadata": {
    "colab": {
     "base_uri": "https://localhost:8080/",
     "height": 68
    },
    "colab_type": "code",
    "executionInfo": {
     "elapsed": 455,
     "status": "ok",
     "timestamp": 1573339107218,
     "user": {
      "displayName": "Renato Querino",
      "photoUrl": "",
      "userId": "04945627356951659814"
     },
     "user_tz": 480
    },
    "id": "yIbdjddmJxGQ",
    "outputId": "635faa73-b7f2-4f67-de70-056b226ac37c"
   },
   "outputs": [
    {
     "data": {
      "text/plain": [
       "array([[0.99753968, 0.53830796],\n",
       "       [0.94293822, 0.13438515],\n",
       "       [0.67048515, 0.33207283]])"
      ]
     },
     "execution_count": 2,
     "metadata": {},
     "output_type": "execute_result"
    }
   ],
   "source": [
    "np.random.random((3,2))"
   ]
  },
  {
   "cell_type": "markdown",
   "metadata": {
    "colab_type": "text",
    "id": "vMCotlhGK_d3"
   },
   "source": [
    "2. Create a 1-dimensional array of 12 sequential numbers and convert it to a 4x3 array"
   ]
  },
  {
   "cell_type": "code",
   "execution_count": 3,
   "metadata": {
    "colab": {
     "base_uri": "https://localhost:8080/",
     "height": 85
    },
    "colab_type": "code",
    "executionInfo": {
     "elapsed": 512,
     "status": "ok",
     "timestamp": 1573339285792,
     "user": {
      "displayName": "Renato Querino",
      "photoUrl": "",
      "userId": "04945627356951659814"
     },
     "user_tz": 480
    },
    "id": "micLZ1riLCxy",
    "outputId": "2a03e773-220c-4f0b-d684-7456a08888d4"
   },
   "outputs": [
    {
     "data": {
      "text/plain": [
       "array([[0.35336802, 0.86316739, 0.64539541],\n",
       "       [0.72013938, 0.80810954, 0.68118886],\n",
       "       [0.39653908, 0.76666998, 0.96609774],\n",
       "       [0.50154444, 0.23078917, 0.25476072]])"
      ]
     },
     "execution_count": 3,
     "metadata": {},
     "output_type": "execute_result"
    }
   ],
   "source": [
    "np.random.random((12)).reshape((4,3))\n"
   ]
  },
  {
   "cell_type": "markdown",
   "metadata": {
    "colab_type": "text",
    "id": "c-b6-kOsNqLo"
   },
   "source": [
    "3. Write a function that creates an incremental array of dimension (1,n) with values\n",
    "between 0 and 1. Use arr.shape to verify."
   ]
  },
  {
   "cell_type": "code",
   "execution_count": 4,
   "metadata": {
    "colab": {
     "base_uri": "https://localhost:8080/",
     "height": 34
    },
    "colab_type": "code",
    "executionInfo": {
     "elapsed": 474,
     "status": "ok",
     "timestamp": 1573339592732,
     "user": {
      "displayName": "Renato Querino",
      "photoUrl": "",
      "userId": "04945627356951659814"
     },
     "user_tz": 480
    },
    "id": "fOuWpgMiNrT9",
    "outputId": "a816d376-39ae-48e0-a1a1-98b7f7b14e4b"
   },
   "outputs": [
    {
     "data": {
      "text/plain": [
       "array([[0.  , 0.25, 0.5 , 0.75, 1.  ]])"
      ]
     },
     "execution_count": 4,
     "metadata": {},
     "output_type": "execute_result"
    }
   ],
   "source": [
    "def generateArray(n):\n",
    "  return np.linspace(0,1, n).reshape((1,n))\n",
    "a = generateArray(5)\n",
    "a"
   ]
  },
  {
   "cell_type": "code",
   "execution_count": 5,
   "metadata": {
    "colab": {
     "base_uri": "https://localhost:8080/",
     "height": 34
    },
    "colab_type": "code",
    "executionInfo": {
     "elapsed": 477,
     "status": "ok",
     "timestamp": 1573339600587,
     "user": {
      "displayName": "Renato Querino",
      "photoUrl": "",
      "userId": "04945627356951659814"
     },
     "user_tz": 480
    },
    "id": "OXT-8Zk4WP-k",
    "outputId": "05429cba-2216-4c75-c00a-476e0c8da55b"
   },
   "outputs": [
    {
     "data": {
      "text/plain": [
       "(1, 5)"
      ]
     },
     "execution_count": 5,
     "metadata": {},
     "output_type": "execute_result"
    }
   ],
   "source": [
    "a.shape"
   ]
  },
  {
   "cell_type": "markdown",
   "metadata": {
    "colab_type": "text",
    "id": "TwuOZEE8T8nP"
   },
   "source": [
    "4. Generate a 10x12 array and extract row 0-4 of columns 8-12."
   ]
  },
  {
   "cell_type": "code",
   "execution_count": 6,
   "metadata": {
    "colab": {
     "base_uri": "https://localhost:8080/",
     "height": 357
    },
    "colab_type": "code",
    "executionInfo": {
     "elapsed": 477,
     "status": "ok",
     "timestamp": 1573339903979,
     "user": {
      "displayName": "Renato Querino",
      "photoUrl": "",
      "userId": "04945627356951659814"
     },
     "user_tz": 480
    },
    "id": "ocKX-qJeT-zG",
    "outputId": "31d2333d-9787-44a2-bdc8-98b5f6b07dc5"
   },
   "outputs": [
    {
     "data": {
      "text/plain": [
       "array([[  1.,   2.,   3.,   4.,   5.,   6.,   7.,   8.,   9.,  10.,  11.,\n",
       "         12.],\n",
       "       [ 13.,  14.,  15.,  16.,  17.,  18.,  19.,  20.,  21.,  22.,  23.,\n",
       "         24.],\n",
       "       [ 25.,  26.,  27.,  28.,  29.,  30.,  31.,  32.,  33.,  34.,  35.,\n",
       "         36.],\n",
       "       [ 37.,  38.,  39.,  40.,  41.,  42.,  43.,  44.,  45.,  46.,  47.,\n",
       "         48.],\n",
       "       [ 49.,  50.,  51.,  52.,  53.,  54.,  55.,  56.,  57.,  58.,  59.,\n",
       "         60.],\n",
       "       [ 61.,  62.,  63.,  64.,  65.,  66.,  67.,  68.,  69.,  70.,  71.,\n",
       "         72.],\n",
       "       [ 73.,  74.,  75.,  76.,  77.,  78.,  79.,  80.,  81.,  82.,  83.,\n",
       "         84.],\n",
       "       [ 85.,  86.,  87.,  88.,  89.,  90.,  91.,  92.,  93.,  94.,  95.,\n",
       "         96.],\n",
       "       [ 97.,  98.,  99., 100., 101., 102., 103., 104., 105., 106., 107.,\n",
       "        108.],\n",
       "       [109., 110., 111., 112., 113., 114., 115., 116., 117., 118., 119.,\n",
       "        120.]])"
      ]
     },
     "execution_count": 6,
     "metadata": {},
     "output_type": "execute_result"
    }
   ],
   "source": [
    "# b = np.random.random((10,12))\n",
    "# using linspace to be easier to read\n",
    "b = np.linspace(1,120, 120).reshape((10,12))\n",
    "b"
   ]
  },
  {
   "cell_type": "code",
   "execution_count": 7,
   "metadata": {
    "colab": {
     "base_uri": "https://localhost:8080/",
     "height": 102
    },
    "colab_type": "code",
    "executionInfo": {
     "elapsed": 875,
     "status": "ok",
     "timestamp": 1573340629347,
     "user": {
      "displayName": "Renato Querino",
      "photoUrl": "",
      "userId": "04945627356951659814"
     },
     "user_tz": 480
    },
    "id": "cOwuG09QWqvW",
    "outputId": "6c745c26-7de1-4e44-9ba2-69e87ad5eb2e"
   },
   "outputs": [
    {
     "data": {
      "text/plain": [
       "array([[ 8.,  9., 10., 11., 12.],\n",
       "       [20., 21., 22., 23., 24.],\n",
       "       [32., 33., 34., 35., 36.],\n",
       "       [44., 45., 46., 47., 48.],\n",
       "       [56., 57., 58., 59., 60.]])"
      ]
     },
     "execution_count": 7,
     "metadata": {},
     "output_type": "execute_result"
    }
   ],
   "source": [
    "b[0:5, 7:]"
   ]
  },
  {
   "cell_type": "markdown",
   "metadata": {
    "colab_type": "text",
    "id": "ho4bpmiqakd8"
   },
   "source": [
    "5. Using the function in Q3, get m vectors and bind them together (to have a m x n)\n",
    "matrix. Plot the matrix with matplotlib’s imshow"
   ]
  },
  {
   "cell_type": "code",
   "execution_count": 8,
   "metadata": {
    "colab": {},
    "colab_type": "code",
    "id": "g5Zwxv31aoaN"
   },
   "outputs": [],
   "source": [
    "def bindArrays(m, n):\n",
    "  c = generateArray(n)\n",
    "  tmp = c\n",
    "  for i in range(1, m):\n",
    "    tmp = np.vstack((c, tmp))\n",
    "  return (tmp)"
   ]
  },
  {
   "cell_type": "code",
   "execution_count": 70,
   "metadata": {
    "colab": {
     "base_uri": "https://localhost:8080/",
     "height": 236
    },
    "colab_type": "code",
    "executionInfo": {
     "elapsed": 889,
     "status": "ok",
     "timestamp": 1573342810908,
     "user": {
      "displayName": "Renato Querino",
      "photoUrl": "",
      "userId": "04945627356951659814"
     },
     "user_tz": 480
    },
    "id": "fG3t_DkFif01",
    "outputId": "3ab31111-29e1-4c23-e0ca-0dbee3e7e76e"
   },
   "outputs": [
    {
     "data": {
      "text/plain": [
       "<matplotlib.image.AxesImage at 0x117bfde90>"
      ]
     },
     "execution_count": 70,
     "metadata": {},
     "output_type": "execute_result"
    },
    {
     "data": {
      "image/png": "[encoded data removed]",
      "text/plain": [
       "<Figure size 432x288 with 1 Axes>"
      ]
     },
     "metadata": {
      "needs_background": "light"
     },
     "output_type": "display_data"
    }
   ],
   "source": [
    "res5 = bindArrays(128, 128)\n",
    "plt.imshow(res5)"
   ]
  },
  {
   "cell_type": "markdown",
   "metadata": {
    "colab_type": "text",
    "id": "LUD5KFAqhi3A"
   },
   "source": [
    "6. Multiply the resulting matrix from Q5 with the matrix of a picture of your choice.\n",
    "Plot the resulting matrix."
   ]
  },
  {
   "cell_type": "code",
   "execution_count": 72,
   "metadata": {
    "colab": {
     "base_uri": "https://localhost:8080/",
     "height": 324
    },
    "colab_type": "code",
    "executionInfo": {
     "elapsed": 846,
     "status": "error",
     "timestamp": 1573343879846,
     "user": {
      "displayName": "Renato Querino",
      "photoUrl": "",
      "userId": "04945627356951659814"
     },
     "user_tz": 480
    },
    "id": "Z4rG0_yuhmVH",
    "outputId": "82fe8e04-dfdf-4184-b078-a76481b7a5d7"
   },
   "outputs": [
    {
     "data": {
      "text/plain": [
       "<matplotlib.image.AxesImage at 0x11744cb10>"
      ]
     },
     "execution_count": 72,
     "metadata": {},
     "output_type": "execute_result"
    },
    {
     "data": {
      "image/png": "[encoded data removed]",
      "text/plain": [
       "<Figure size 432x288 with 1 Axes>"
      ]
     },
     "metadata": {
      "needs_background": "light"
     },
     "output_type": "display_data"
    }
   ],
   "source": [
    "chewie = plt.imread(\"ryan.jpeg\")\n",
    "plt.imshow(chewie)"
   ]
  },
  {
   "cell_type": "code",
   "execution_count": 79,
   "metadata": {
    "colab": {
     "base_uri": "https://localhost:8080/",
     "height": 215
    },
    "colab_type": "code",
    "executionInfo": {
     "elapsed": 901,
     "status": "error",
     "timestamp": 1573343906104,
     "user": {
      "displayName": "Renato Querino",
      "photoUrl": "",
      "userId": "04945627356951659814"
     },
     "user_tz": 480
    },
    "id": "ho0ddoEvmFMF",
    "outputId": "0cf10fcb-f11f-4325-bfe7-976d4c076634"
   },
   "outputs": [
    {
     "data": {
      "text/plain": [
       "<matplotlib.image.AxesImage at 0x117859a50>"
      ]
     },
     "execution_count": 79,
     "metadata": {},
     "output_type": "execute_result"
    },
    {
     "data": {
      "image/png": "[encoded data removed]",
      "text/plain": [
       "<Figure size 432x288 with 1 Axes>"
      ]
     },
     "metadata": {
      "needs_background": "light"
     },
     "output_type": "display_data"
    }
   ],
   "source": [
    "# chewie matrix is [128, 128, 3]\n",
    "img = np.array(plt.imread(\"ryan.jpeg\"))\n",
    "for i in range(0, 3):\n",
    "    img[:,:,i] = (img[:,:,i] * res5)\n",
    "plt.imshow(img)"
   ]
  },
  {
   "cell_type": "code",
   "execution_count": null,
   "metadata": {},
   "outputs": [],
   "source": []
  }
 ],
 "metadata": {
  "colab": {
   "name": "numpy_rush.ipynb",
   "provenance": []
  },
  "kernelspec": {
   "display_name": "Python 3",
   "language": "python",
   "name": "python3"
  },
  "language_info": {
   "codemirror_mode": {
    "name": "ipython",
    "version": 3
   },
   "file_extension": ".py",
   "mimetype": "text/x-python",
   "name": "python",
   "nbconvert_exporter": "python",
   "pygments_lexer": "ipython3",
   "version": "3.7.4"
  }
 },
 "nbformat": 4,
 "nbformat_minor": 1
}
